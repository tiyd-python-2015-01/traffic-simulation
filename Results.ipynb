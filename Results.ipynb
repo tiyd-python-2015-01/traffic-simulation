{
 "metadata": {
  "name": "",
  "signature": "sha256:69626f948d607a2101fb43697d37b3fd85c8ef349d372e01c1086a5856a96134"
 },
 "nbformat": 3,
 "nbformat_minor": 0,
 "worksheets": [
  {
   "cells": [
    {
     "cell_type": "heading",
     "level": 1,
     "metadata": {},
     "source": [
      "Results"
     ]
    },
    {
     "cell_type": "markdown",
     "metadata": {},
     "source": [
      "After running 1,000 simulations of traffic through our 1km of road, the results are as follows -\n",
      "mean = 114.28 km/hr\n",
      "standard deviation = 2.67\n",
      "\n",
      "\n",
      "As a result, I recommend the speed limit for this road be 117 km/hr."
     ]
    },
    {
     "cell_type": "markdown",
     "metadata": {},
     "source": [
      "According to the graph that shows the plots of each car after 60 rounds over 100 simulations, there aren't really any 'traffic jams'. On the whole, cars stay relatively separated. It's important to note that upon this discovery, I changed the random slow down percentage to 50% to validate that everything is operating properly and there were 'traffic jams' at that time."
     ]
    }
   ],
   "metadata": {}
  }
 ]
}