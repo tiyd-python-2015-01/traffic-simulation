{
 "metadata": {
  "name": "",
  "signature": "sha256:31032e003dc3a8917836854b7e5faa38f740460c96fd0e9517bacc2940cfb849"
 },
 "nbformat": 3,
 "nbformat_minor": 0,
 "worksheets": [
  {
   "cells": [
    {
     "cell_type": "heading",
     "level": 1,
     "metadata": {},
     "source": [
      "Results"
     ]
    },
    {
     "cell_type": "markdown",
     "metadata": {},
     "source": [
      "After running 1,000 simulations of traffic through our 1km of road, the results are as follows -\n",
      "mean = 114.28 km/hr\n",
      "standard deviation = 2.67\n",
      "\n",
      "\n",
      "As a result, I recommend the speed limit for this road be 117 km/hr."
     ]
    },
    {
     "cell_type": "code",
     "collapsed": false,
     "input": [],
     "language": "python",
     "metadata": {},
     "outputs": []
    }
   ],
   "metadata": {}
  }
 ]
}