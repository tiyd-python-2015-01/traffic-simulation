{
 "metadata": {
  "name": "",
  "signature": "sha256:a588c5fb1ab13f457ce7d3ec93eeaf35afecbc6b1522523119c42bb73faa1642"
 },
 "nbformat": 3,
 "nbformat_minor": 0,
 "worksheets": [
  {
   "cells": [
    {
     "cell_type": "code",
     "collapsed": false,
     "input": [
      "import math\n",
      "import random\n",
      "import matplotlib.pyplot as plt\n",
      "import statistics as st\n",
      "import numpy as np\n",
      "from copy import deepcopy"
     ],
     "language": "python",
     "metadata": {},
     "outputs": [],
     "prompt_number": 23
    },
    {
     "cell_type": "code",
     "collapsed": false,
     "input": [
      "%matplotlib inline"
     ],
     "language": "python",
     "metadata": {},
     "outputs": [],
     "prompt_number": 24
    },
    {
     "cell_type": "code",
     "collapsed": false,
     "input": [
      "class Road():\n",
      "    \"\"\" Responsible for storing\n",
      "    - Road Length\n",
      "    - slowing chance\n",
      "    - Info on where each car is.\n",
      "    \"\"\"\n",
      "    def __init__(self, length, slowing_chance = 0):\n",
      "        self.length = length\n",
      "        self.slowing_chance = slowing_chance\n",
      "        "
     ],
     "language": "python",
     "metadata": {},
     "outputs": [],
     "prompt_number": 25
    },
    {
     "cell_type": "code",
     "collapsed": false,
     "input": [
      "class Car():\n",
      "    \"\"\" Responsible for storing information\n",
      "    - Speed\n",
      "    - Desired Speed\n",
      "    - Acceleration Rate\n",
      "    - Desired distance to car in front\n",
      "    - Car length\n",
      "    - Slowing Chance\n",
      "    Methods:\n",
      "    - Move\n",
      "    - Collision\n",
      "    - Distance\n",
      "\"\"\"\n",
      "    def __init__(self, \n",
      "                 x,\n",
      "                 acceleration=2,\n",
      "                 length=5, \n",
      "                 slowing_chance=.1,\n",
      "                 desired_distance = 25,\n",
      "                 desired_speed = (120*1000)/(60*60)):\n",
      "        self.x = x\n",
      "        self.acceleration = acceleration\n",
      "        self.length = length\n",
      "        self.slowing_chance = slowing_chance\n",
      "        self.desired_distance = desired_distance\n",
      "        self.desired_speed = desired_speed\n",
      "        self.speed = 0\n",
      "        \n",
      "     \n",
      "    def accelerate(self):\n",
      "        return min(self.speed + self.acceleration,self.desired_speed)\n",
      "    \n",
      "\n",
      "    def randomly_deaccelerate(self):\n",
      "        self.speed = max(0, self.speed - self.acceleration)  \n",
      "        \n",
      "    \n",
      "    def move_ahead(self, x, speed): \n",
      "        self.x = x + speed\n",
      "\n",
      "        \n",
      "    def stop_car(self):\n",
      "        self.speed = 0\n",
      "    \n",
      "    def collision(self, other):\n",
      "        if self.x >= other.x:\n",
      "            return True\n",
      "        else:\n",
      "            return False\n",
      "    \n",
      "    def show_car(self):\n",
      "        return \"I am at position {} with speed {}\".format(self.x,self.speed)\n",
      "    \n",
      "    def distance(self, car):\n",
      "        return car.x - self.x"
     ],
     "language": "python",
     "metadata": {},
     "outputs": [],
     "prompt_number": 58
    },
    {
     "cell_type": "code",
     "collapsed": false,
     "input": [
      "class Simulation:\n",
      "    # Simulation object receives 3 arguments: the road, the number of cars to put on the road\n",
      "    # and how many seconds to run the simulation for\n",
      "    \n",
      "    def __init__(self, road, number_of_cars, sim_length):\n",
      "        \n",
      "        self.road = road\n",
      "        self.cars = number_of_cars\n",
      "        self.cars_on_road = []\n",
      "        \n",
      "    def add_initial_cars(self):\n",
      "        distance = self.road.length//self.cars\n",
      "        row = []\n",
      "        for x in range(0, self.cars):\n",
      "            row.append(Car(x*distance))\n",
      "        self.update_cars_on_road(row)\n",
      "        \n",
      "    def update_cars_on_road(self,newrow):\n",
      "        self.cars_on_road.append(newrow)\n",
      "        \n",
      "    def get_row(self,ind):\n",
      "        return self.cars_on_road[ind]\n",
      "        \n",
      "    def return_my_x(self):\n",
      "        all_list = []\n",
      "        for row_ind in range(len(self.cars_on_road)):\n",
      "            row_list = []\n",
      "            for car_ind in range(len(self.cars_on_road[row_ind])):\n",
      "                row_list.append(self.cars_on_road[row_ind][car_ind].x)\n",
      "            all_list.append(row_list)\n",
      "        return (all_list)\n",
      "            \n",
      "            \n",
      "    def return_my_speed(self):\n",
      "        all_list = []\n",
      "        for row_ind in range(len(self.cars_on_road)):\n",
      "            row_list = []\n",
      "            for car_ind in range(len(self.cars_on_road[row_ind])):\n",
      "                row_list.append(self.cars_on_road[row_ind][car_ind].speed)\n",
      "            all_list.append(row_list)\n",
      "        return (all_list)\n",
      "    \n",
      "        \n",
      "        #return [self.cars_on_road[row_ind][car_ind].speed \n",
      "         #       for row_ind in range(len(self.cars_on_road))\n",
      "          #      for car_ind in range(len(self.cars_on_road[row_ind]))]\n",
      "    \n",
      "    def print_my_cars(self, car_list):\n",
      "        for row_ind in range(len(car_list)):\n",
      "            for ind in range(len(car_list[row_ind])):\n",
      "                print(\"row-ind\",row_ind,\" car\",ind,\" \", car_list[row_ind][ind].show_car())\n",
      "            \n",
      "       \n",
      "    def next_car_in_sim(self, position):\n",
      "        if position == self.cars - 1:\n",
      "            return 0\n",
      "        else:        \n",
      "            return position + 1\n",
      "        \n",
      "      \n",
      "    def calc_wrap_around1(self,temp_list):\n",
      "        # Moves last car to the beginning of the list ro simulate the\n",
      "        # circular movement\n",
      "        #temp_list = car_list\n",
      "        last_car = temp_list[self.cars -1] \n",
      "        for ind in range(self.cars-2,-1, -1):\n",
      "            temp_list[ind+1] = temp_list[ind]\n",
      "        temp_list[0] = last_car\n",
      "        return temp_list\n",
      "      \n",
      "            \n",
      "    def update_row(self,time_index):        \n",
      "        new_car_pos = deepcopy(self.cars_on_road[time_index])\n",
      "        #wrap_around will let me know when I need to simulate the circular road\n",
      "        wrap_around = False\n",
      "        #I will start moving each car starting with the last car\n",
      "        for car_ind in range(self.cars-1, -1, -1):\n",
      "            car_to_move = deepcopy(new_car_pos[car_ind])\n",
      "            first_car = deepcopy(new_car_pos[0])\n",
      "            car_to_move.speed = car_to_move.accelerate()\n",
      "            new_x = car_to_move.x + car_to_move.speed \n",
      "            #The last car is managed different than the rest\n",
      "            if car_ind == self.cars - 1:\n",
      "                if new_x < self.road.length:\n",
      "                    car_to_move.x = new_x\n",
      "                else: #if my new_x takes me out of the road\n",
      "                    new_x = new_x - self.road.length\n",
      "                    if first_car.x - new_x < car_to_move.desired_distance:\n",
      "                        if first_car.speed < car_to_move.speed:   \n",
      "                            car_to_move.speed = first_car.speed\n",
      "                    else: #car can move to first spot on road\n",
      "                        wrap_around = True\n",
      "                        car_to_move.x = new_x\n",
      "            else:#car is not last on row\n",
      "                next_car_index = self.next_car_in_sim(car_ind)\n",
      "                next_car = deepcopy(new_car_pos[next_car_index])\n",
      "                if next_car.x  - new_x < car_to_move.desired_distance:\n",
      "                    if next_car.speed < car_to_move.speed:\n",
      "                        car_to_move.speed = next_car.speed\n",
      "                else:\n",
      "                    car_to_move.x = new_x\n",
      "            # Deaccelerates randomly\n",
      "            if random.random() <= car_to_move.slowing_chance:\n",
      "                car_to_move.speed = car_to_move.randomly_deaccelerate()\n",
      "            new_car_pos[car_ind] = deepcopy(car_to_move)\n",
      "        if wrap_around == True:\n",
      "            pp = deepcopy(new_car_pos)\n",
      "            new_car_pos = calc_wrap_around(pp)\n",
      "        self.cars_on_road.append(new_car_pos)\n",
      "            "
     ],
     "language": "python",
     "metadata": {},
     "outputs": [],
     "prompt_number": 88
    },
    {
     "cell_type": "code",
     "collapsed": false,
     "input": [
      "def calc_wrap_around(car_list):\n",
      "        # Moves last car to the beginning of the list ro simulate the\n",
      "        # circular movement\n",
      "        temp_list = deepcopy(car_list)\n",
      "        if len(temp_list) == 1:\n",
      "            return temp_list\n",
      "        else:\n",
      "            return [temp_list[len(temp_list)-1]]+temp_list[:len(temp_list)-1:]"
     ],
     "language": "python",
     "metadata": {},
     "outputs": [],
     "prompt_number": 28
    },
    {
     "cell_type": "code",
     "collapsed": false,
     "input": [
      "def trial():\n",
      "    road = Road(1000)\n",
      "    cars = 30\n",
      "    sim_length = 60\n",
      "    sim = Simulation(road, cars, sim_length)\n",
      "    sim.add_initial_cars()\n",
      "    for time in range(sim_length-1):\n",
      "        sim.update_row(time)\n",
      "    my_x = sim.return_my_x()\n",
      "    #print(my_x)\n",
      "\n",
      "    my_speed = sim.return_my_speed()\n",
      "    myspeed=np.array(my_speed) \n",
      "    print(myspeed)\n",
      "    #print(np.mean(myspeed))\n",
      "          \n",
      "    #myx = np.array(my_x) \n",
      "    #print(myx)\n",
      "    #print(my_x)\n",
      "    #t = [ind for ind in range(sim_length)]\n",
      "    #z = zip(t,my_x)\n",
      "    #print (z)\n",
      "    #scatter_plot(t,my_x,\"x\",\"y\",\"my chart\")\n",
      "    return np.mean(myspeed)\n",
      "    \n",
      "print (trial())"
     ],
     "language": "python",
     "metadata": {},
     "outputs": [
      {
       "output_type": "stream",
       "stream": "stdout",
       "text": [
        "[[  0.           0.           0.         ...,   0.           0.           0.        ]\n",
        " [  2.           2.           2.         ...,   2.           2.           2.        ]\n",
        " [  4.           4.           4.         ...,   4.           4.           4.        ]\n",
        " ..., \n",
        " [ 33.33333333  33.33333333  33.33333333 ...,  33.33333333  33.33333333\n",
        "   33.33333333]\n",
        " [ 33.33333333  33.33333333  33.33333333 ...,  33.33333333  33.33333333\n",
        "   33.33333333]\n",
        " [ 33.33333333  33.33333333  33.33333333 ...,  33.33333333  33.33333333\n",
        "   33.33333333]]\n",
        "23.6588888889\n"
       ]
      }
     ],
     "prompt_number": 98
    },
    {
     "cell_type": "code",
     "collapsed": false,
     "input": [
      "means = []\n",
      "for r in range(1000):\n",
      "    means.append(trial())\n",
      "  \n",
      "meanspeed = st.mean(means)\n",
      "print (meanspeed)\n"
     ],
     "language": "python",
     "metadata": {},
     "outputs": [
      {
       "output_type": "stream",
       "stream": "stdout",
       "text": [
        "26.4711488889\n"
       ]
      }
     ],
     "prompt_number": 96
    },
    {
     "cell_type": "code",
     "collapsed": false,
     "input": [
      "stdspeed = st.stdev(means)\n",
      "print (stdspeed)"
     ],
     "language": "python",
     "metadata": {},
     "outputs": [
      {
       "output_type": "stream",
       "stream": "stdout",
       "text": [
        "1.632338504289475\n"
       ]
      }
     ],
     "prompt_number": 103
    },
    {
     "cell_type": "markdown",
     "metadata": {},
     "source": [
      "Average speed under these assumptions and running 1000 trials is about 25 meters per second with standard deviation of 0.97.  The maximum speed limits is therefore:"
     ]
    },
    {
     "cell_type": "code",
     "collapsed": false,
     "input": [
      "int((round(meanspeed + stdspeed))*3600/1000)"
     ],
     "language": "python",
     "metadata": {},
     "outputs": [
      {
       "metadata": {},
       "output_type": "pyout",
       "prompt_number": 104,
       "text": [
        "100"
       ]
      }
     ],
     "prompt_number": 104
    },
    {
     "cell_type": "markdown",
     "metadata": {},
     "source": [
      "Speed limit should set"
     ]
    },
    {
     "cell_type": "code",
     "collapsed": false,
     "input": [
      "def scatter_plot(x,y, xlabel, ylabel, title):\n",
      "    plt.scatter(x, y)\n",
      "    plt.xlabel(xlabel)\n",
      "    plt.ylabel(ylabel)\n",
      "    plt.title(title)\n",
      "    plt.show()"
     ],
     "language": "python",
     "metadata": {},
     "outputs": [],
     "prompt_number": 102
    },
    {
     "cell_type": "code",
     "collapsed": false,
     "input": [],
     "language": "python",
     "metadata": {},
     "outputs": []
    }
   ],
   "metadata": {}
  }
 ]
}