{
 "metadata": {
  "name": "",
  "signature": "sha256:3f1270ebeacc46cbd2c0ecc608ff806975bd283f9b91f51067209a00937662a0"
 },
 "nbformat": 3,
 "nbformat_minor": 0,
 "worksheets": [
  {
   "cells": [
    {
     "cell_type": "code",
     "collapsed": false,
     "input": [
      "import matplotlib.pyplot as plt\n",
      "import seaborn as sb\n",
      "from statistics import mean, stdev\n",
      "import traffic_sim_functions"
     ],
     "language": "python",
     "metadata": {},
     "outputs": [],
     "prompt_number": 1
    },
    {
     "cell_type": "code",
     "collapsed": false,
     "input": [
      "%matplotlib inline"
     ],
     "language": "python",
     "metadata": {},
     "outputs": [],
     "prompt_number": 2
    },
    {
     "cell_type": "code",
     "collapsed": false,
     "input": [
      "def plot_data(data, x_label, y_label, title, bins, mean, stdev):\n",
      "    plt.gcf().set_size_inches(15.5,10.5)\n",
      "    plt.hist(data, bins=bins)\n",
      "    ymin, ymax = plt.ylim()\n",
      "    plt.vlines(mean, ymin, ymax, color=\"red\")\n",
      "    plt.vlines([mean - stdev, mean + stdev], ymin, ymax, linestyle=\"dashed\", color=\"red\")\n",
      "    plt.xlabel(x_label)\n",
      "    plt.ylabel(y_label)\n",
      "    plt.title(title)\n",
      "    plt.show()"
     ],
     "language": "python",
     "metadata": {},
     "outputs": [],
     "prompt_number": 146
    },
    {
     "cell_type": "heading",
     "level": 1,
     "metadata": {},
     "source": [
      "Traffic Simulation"
     ]
    },
    {
     "cell_type": "markdown",
     "metadata": {},
     "source": [
      "<img src=\"files/road.png\">"
     ]
    },
    {
     "cell_type": "markdown",
     "metadata": {},
     "source": [
      "The following data is based on a simulation of traffic on the road pictured above.  The \"b\" values indicate areas where the curves of the road have an increased likelyhood of causing a driver to slow down.  The simulation contains three types of drivers: Normal drivers who drive cars 5m long, have a desired maximum speed of 120km/h, accelerate at 2m/s, have a desired distance of 20m between themselves and the car ahead and have a base chance to slow down of 10% per second - Aggressive drivers who differ from normal drivers by having a desired maximum speed of 140 km/h, a desired distance of only 15m between themselves, a decreased chance to slow down and the car in front and accelerate at 5m/s - and Commercial drivers who drive vehicles 25m long, have a desired maximum speed of 100 km/h, accelerate at only 1.5m/s and wish to maintain a 100m distance between themselves and the car in front.\n",
      "\n",
      "Normal drivers make up about 75% of the total drivers in the simulation, while commercial drivers make up 15% and aggressive drivers only 10%."
     ]
    },
    {
     "cell_type": "heading",
     "level": 2,
     "metadata": {},
     "source": [
      "Running the Simulation Over 10,000 Iterations With 30 Cars"
     ]
    },
    {
     "cell_type": "code",
     "collapsed": false,
     "input": [
      "car_list = traffic_sim_functions.main(240, 10000)"
     ],
     "language": "python",
     "metadata": {},
     "outputs": [],
     "prompt_number": 134
    },
    {
     "cell_type": "code",
     "collapsed": false,
     "input": [
      "mean_speed_list_1 = []\n",
      "for car in car_list:\n",
      "    mean_speed_list_1.append(car[\"mean speed\"])"
     ],
     "language": "python",
     "metadata": {},
     "outputs": [],
     "prompt_number": 141
    },
    {
     "cell_type": "code",
     "collapsed": false,
     "input": [
      "speed_mean_1 = mean(mean_speed_list_1)\n",
      "speed_stdev_1 = stdev(mean_speed_list_1)"
     ],
     "language": "python",
     "metadata": {},
     "outputs": [],
     "prompt_number": 142
    },
    {
     "cell_type": "code",
     "collapsed": false,
     "input": [
      "print(speed_mean_1)"
     ],
     "language": "python",
     "metadata": {},
     "outputs": [
      {
       "output_type": "stream",
       "stream": "stdout",
       "text": [
        "27.442476633893556\n"
       ]
      }
     ],
     "prompt_number": 143
    },
    {
     "cell_type": "code",
     "collapsed": false,
     "input": [
      "print(speed_stdev_1)"
     ],
     "language": "python",
     "metadata": {},
     "outputs": [
      {
       "output_type": "stream",
       "stream": "stdout",
       "text": [
        "0.024020045405564495\n"
       ]
      }
     ],
     "prompt_number": 144
    },
    {
     "cell_type": "code",
     "collapsed": false,
     "input": [
      "plot_data(mean_speed_list_1, \"Speed\", \"Cars\", \"Number of Cars Traveling at Speed\", 20, speed_mean_1, speed_stdev_1)"
     ],
     "language": "python",
     "metadata": {},
     "outputs": [
      {
       "metadata": {},
       "output_type": "display_data",
       "png": "[encoded data removed]",
       "text": [
        "<matplotlib.figure.Figure at 0x111adb4e0>"
       ]
      }
     ],
     "prompt_number": 181
    },
    {
     "cell_type": "heading",
     "level": 2,
     "metadata": {},
     "source": [
      "Running Simulation Over 216,000 Iterations With 30 Cars"
     ]
    },
    {
     "cell_type": "code",
     "collapsed": false,
     "input": [
      "car_list = traffic_sim_functions.main(240, 216000)"
     ],
     "language": "python",
     "metadata": {},
     "outputs": [],
     "prompt_number": 174
    },
    {
     "cell_type": "code",
     "collapsed": false,
     "input": [
      "mean_speed_list_2 = []\n",
      "for car in car_list:\n",
      "    mean_speed_list_2.append(car[\"mean speed\"])"
     ],
     "language": "python",
     "metadata": {},
     "outputs": [],
     "prompt_number": 175
    },
    {
     "cell_type": "code",
     "collapsed": false,
     "input": [
      "speed_mean_2 = mean(mean_speed_list_2)\n",
      "speed_stdev_2 = stdev(mean_speed_list_2)"
     ],
     "language": "python",
     "metadata": {},
     "outputs": [],
     "prompt_number": 184
    },
    {
     "cell_type": "code",
     "collapsed": false,
     "input": [
      "print(speed_mean_2)"
     ],
     "language": "python",
     "metadata": {},
     "outputs": [
      {
       "output_type": "stream",
       "stream": "stdout",
       "text": [
        "27.43964675171201\n"
       ]
      }
     ],
     "prompt_number": 185
    },
    {
     "cell_type": "code",
     "collapsed": false,
     "input": [
      "print(speed_stdev_2)"
     ],
     "language": "python",
     "metadata": {},
     "outputs": [
      {
       "output_type": "stream",
       "stream": "stdout",
       "text": [
        "0.002681058311645887\n"
       ]
      }
     ],
     "prompt_number": 186
    },
    {
     "cell_type": "code",
     "collapsed": false,
     "input": [
      "plot_data(mean_speed_list_2, \"Speed\", \"Cars\", \"Number of Cars Traveling at Speed\", 20, speed_mean_2, speed_stdev_2)"
     ],
     "language": "python",
     "metadata": {},
     "outputs": [
      {
       "metadata": {},
       "output_type": "display_data",
       "png": "[encoded data removed]",
       "text": [
        "<matplotlib.figure.Figure at 0x10f9c8588>"
       ]
      }
     ],
     "prompt_number": 187
    },
    {
     "cell_type": "heading",
     "level": 2,
     "metadata": {},
     "source": [
      "Running Simulation Over 1,000,000 Iterations With 30 Cars"
     ]
    },
    {
     "cell_type": "code",
     "collapsed": false,
     "input": [
      "car_list = traffic_sim_functions.main(240, 1000000)"
     ],
     "language": "python",
     "metadata": {},
     "outputs": [],
     "prompt_number": 188
    },
    {
     "cell_type": "code",
     "collapsed": false,
     "input": [
      "mean_speed_list_3 = []\n",
      "for car in car_list:\n",
      "    mean_speed_list_3.append(car[\"mean speed\"])"
     ],
     "language": "python",
     "metadata": {},
     "outputs": [],
     "prompt_number": 189
    },
    {
     "cell_type": "code",
     "collapsed": false,
     "input": [
      "speed_mean_3 = mean(mean_speed_list_3)\n",
      "speed_stdev_3 = stdev(mean_speed_list_3)"
     ],
     "language": "python",
     "metadata": {},
     "outputs": [],
     "prompt_number": 190
    },
    {
     "cell_type": "code",
     "collapsed": false,
     "input": [
      "print(speed_mean_3)"
     ],
     "language": "python",
     "metadata": {},
     "outputs": [
      {
       "output_type": "stream",
       "stream": "stdout",
       "text": [
        "27.439193891850486\n"
       ]
      }
     ],
     "prompt_number": 191
    },
    {
     "cell_type": "code",
     "collapsed": false,
     "input": [
      "print(speed_stdev_3)"
     ],
     "language": "python",
     "metadata": {},
     "outputs": [
      {
       "output_type": "stream",
       "stream": "stdout",
       "text": [
        "0.0009808124949342973\n"
       ]
      }
     ],
     "prompt_number": 192
    },
    {
     "cell_type": "code",
     "collapsed": false,
     "input": [
      "plot_data(mean_speed_list_3, \"Speed\", \"Cars\", \"Number of Cars Traveling at Speed\", 20, speed_mean_3, speed_stdev_3)"
     ],
     "language": "python",
     "metadata": {},
     "outputs": [
      {
       "metadata": {},
       "output_type": "display_data",
       "png": "[encoded data removed]",
       "text": [
        "<matplotlib.figure.Figure at 0x111b692e8>"
       ]
      }
     ],
     "prompt_number": 200
    },
    {
     "cell_type": "markdown",
     "metadata": {},
     "source": [
      "From the above data we can see that the average driving speed on this road is 27.44 m/s.  Based on this simulation I would recommend a speed limit of 99km/h."
     ]
    },
    {
     "cell_type": "heading",
     "level": 1,
     "metadata": {},
     "source": [
      "Adding More Cars to the Simulation"
     ]
    },
    {
     "cell_type": "heading",
     "level": 2,
     "metadata": {},
     "source": [
      "Running Simulation Over 1,000,000 Iterations With 60 Cars"
     ]
    },
    {
     "cell_type": "code",
     "collapsed": false,
     "input": [
      "car_list = traffic_sim_functions.main(240, 1000000, 60)"
     ],
     "language": "python",
     "metadata": {},
     "outputs": [],
     "prompt_number": 195
    },
    {
     "cell_type": "code",
     "collapsed": false,
     "input": [
      "mean_speed_list_4 = []\n",
      "for car in car_list:\n",
      "    mean_speed_list_4.append(car[\"mean speed\"])"
     ],
     "language": "python",
     "metadata": {},
     "outputs": [],
     "prompt_number": 196
    },
    {
     "cell_type": "code",
     "collapsed": false,
     "input": [
      "speed_mean_4 = mean(mean_speed_list_4)\n",
      "speed_stdev_4 = stdev(mean_speed_list_4)"
     ],
     "language": "python",
     "metadata": {},
     "outputs": [],
     "prompt_number": 197
    },
    {
     "cell_type": "code",
     "collapsed": false,
     "input": [
      "print(speed_mean_4)"
     ],
     "language": "python",
     "metadata": {},
     "outputs": [
      {
       "output_type": "stream",
       "stream": "stdout",
       "text": [
        "27.43864229454095\n"
       ]
      }
     ],
     "prompt_number": 198
    },
    {
     "cell_type": "code",
     "collapsed": false,
     "input": [
      "print(speed_stdev_4)"
     ],
     "language": "python",
     "metadata": {},
     "outputs": [
      {
       "output_type": "stream",
       "stream": "stdout",
       "text": [
        "0.0004179138729237796\n"
       ]
      }
     ],
     "prompt_number": 199
    },
    {
     "cell_type": "code",
     "collapsed": false,
     "input": [
      "plot_data(mean_speed_list_4, \"Speed\", \"Cars\", \"Number of Cars Traveling at Speed\", 20, speed_mean_4, speed_stdev_4)"
     ],
     "language": "python",
     "metadata": {},
     "outputs": [
      {
       "metadata": {},
       "output_type": "display_data",
       "png": "[encoded data removed]",
       "text": [
        "<matplotlib.figure.Figure at 0x1099444a8>"
       ]
      }
     ],
     "prompt_number": 201
    },
    {
     "cell_type": "markdown",
     "metadata": {},
     "source": [
      "Doubling the amount of traffic had negligible impact on the speed at which drivers traveled."
     ]
    },
    {
     "cell_type": "heading",
     "level": 2,
     "metadata": {},
     "source": [
      "Running Simulation Over 1,000,000 Iterations With 180 Cars"
     ]
    },
    {
     "cell_type": "code",
     "collapsed": false,
     "input": [
      "car_list = traffic_sim_functions.main(240, 1000000, 180)"
     ],
     "language": "python",
     "metadata": {},
     "outputs": [],
     "prompt_number": 203
    },
    {
     "cell_type": "code",
     "collapsed": false,
     "input": [
      "mean_speed_list_5 = []\n",
      "for car in car_list:\n",
      "    mean_speed_list_5.append(car[\"mean speed\"])"
     ],
     "language": "python",
     "metadata": {},
     "outputs": [],
     "prompt_number": 204
    },
    {
     "cell_type": "code",
     "collapsed": false,
     "input": [
      "speed_mean_5 = mean(mean_speed_list_5)\n",
      "speed_stdev_5 = stdev(mean_speed_list_5)"
     ],
     "language": "python",
     "metadata": {},
     "outputs": [],
     "prompt_number": 205
    },
    {
     "cell_type": "code",
     "collapsed": false,
     "input": [
      "print(speed_mean_5)"
     ],
     "language": "python",
     "metadata": {},
     "outputs": [
      {
       "output_type": "stream",
       "stream": "stdout",
       "text": [
        "27.438424261965228\n"
       ]
      }
     ],
     "prompt_number": 210
    },
    {
     "cell_type": "code",
     "collapsed": false,
     "input": [
      "print(speed_stdev_5)"
     ],
     "language": "python",
     "metadata": {},
     "outputs": [
      {
       "output_type": "stream",
       "stream": "stdout",
       "text": [
        "0.0003713268293333056\n"
       ]
      }
     ],
     "prompt_number": 208
    },
    {
     "cell_type": "code",
     "collapsed": false,
     "input": [
      "plot_data(mean_speed_list_5, \"Speed\", \"Cars\", \"Number of Cars Traveling at Speed\", 20, speed_mean_5, speed_stdev_5)"
     ],
     "language": "python",
     "metadata": {},
     "outputs": [
      {
       "metadata": {},
       "output_type": "display_data",
       "png": "[encoded data removed]",
       "text": [
        "<matplotlib.figure.Figure at 0x111b1fbe0>"
       ]
      }
     ],
     "prompt_number": 209
    },
    {
     "cell_type": "markdown",
     "metadata": {},
     "source": [
      "Even at 180 cars congestion does not seem to be a problem.  The 7 km road could fit 1,400 normal sized cars bumper to bumper."
     ]
    },
    {
     "cell_type": "heading",
     "level": 2,
     "metadata": {},
     "source": [
      "Running Simulation Over 1,000,000 Iterations With 500 Cars"
     ]
    },
    {
     "cell_type": "code",
     "collapsed": false,
     "input": [
      "car_list = traffic_sim_functions.main(240, 1000000, 500)"
     ],
     "language": "python",
     "metadata": {},
     "outputs": [],
     "prompt_number": 221
    },
    {
     "cell_type": "code",
     "collapsed": false,
     "input": [
      "mean_speed_list_6 = []\n",
      "for car in car_list:\n",
      "    mean_speed_list_6.append(car[\"mean speed\"])"
     ],
     "language": "python",
     "metadata": {},
     "outputs": [],
     "prompt_number": 222
    },
    {
     "cell_type": "code",
     "collapsed": false,
     "input": [
      "speed_mean_6 = mean(mean_speed_list_6)\n",
      "speed_stdev_6 = stdev(mean_speed_list_6)"
     ],
     "language": "python",
     "metadata": {},
     "outputs": [],
     "prompt_number": 223
    },
    {
     "cell_type": "code",
     "collapsed": false,
     "input": [
      "print(speed_mean_6)"
     ],
     "language": "python",
     "metadata": {},
     "outputs": [
      {
       "output_type": "stream",
       "stream": "stdout",
       "text": [
        "24.56695409870524\n"
       ]
      }
     ],
     "prompt_number": 224
    },
    {
     "cell_type": "code",
     "collapsed": false,
     "input": [
      "print(speed_stdev_6)"
     ],
     "language": "python",
     "metadata": {},
     "outputs": [
      {
       "output_type": "stream",
       "stream": "stdout",
       "text": [
        "1.8553463574935252\n"
       ]
      }
     ],
     "prompt_number": 225
    },
    {
     "cell_type": "code",
     "collapsed": false,
     "input": [
      "plot_data(mean_speed_list_6, \"Speed\", \"Cars\", \"Number of Cars Traveling at Speed\", 5, speed_mean_6, speed_stdev_6)"
     ],
     "language": "python",
     "metadata": {},
     "outputs": [
      {
       "metadata": {},
       "output_type": "display_data",
       "png": "[encoded data removed]",
       "text": [
        "<matplotlib.figure.Figure at 0x109979550>"
       ]
      }
     ],
     "prompt_number": 227
    },
    {
     "cell_type": "markdown",
     "metadata": {},
     "source": [
      "At this level of congestion it appears that over 50% of the cars average a much lower speed.  A good number of the cars still seem to be making it through at a speed only slightly lower than in previous simulations."
     ]
    },
    {
     "cell_type": "heading",
     "level": 2,
     "metadata": {},
     "source": [
      "Running Simulation Over 1,000,000 Iterations With 1,000 Cars"
     ]
    },
    {
     "cell_type": "code",
     "collapsed": false,
     "input": [
      "car_list = traffic_sim_functions.main(240, 1000000, 1000)"
     ],
     "language": "python",
     "metadata": {},
     "outputs": [],
     "prompt_number": 229
    },
    {
     "cell_type": "code",
     "collapsed": false,
     "input": [
      "mean_speed_list_7 = []\n",
      "for car in car_list:\n",
      "    mean_speed_list_7.append(car[\"mean speed\"])"
     ],
     "language": "python",
     "metadata": {},
     "outputs": [],
     "prompt_number": 230
    },
    {
     "cell_type": "code",
     "collapsed": false,
     "input": [
      "speed_mean_7 = mean(mean_speed_list_7)\n",
      "speed_stdev_7 = stdev(mean_speed_list_7)"
     ],
     "language": "python",
     "metadata": {},
     "outputs": [],
     "prompt_number": 231
    },
    {
     "cell_type": "code",
     "collapsed": false,
     "input": [
      "print(speed_mean_7)"
     ],
     "language": "python",
     "metadata": {},
     "outputs": [
      {
       "output_type": "stream",
       "stream": "stdout",
       "text": [
        "12.975661957674678\n"
       ]
      }
     ],
     "prompt_number": 232
    },
    {
     "cell_type": "code",
     "collapsed": false,
     "input": [
      "print(speed_stdev_7)"
     ],
     "language": "python",
     "metadata": {},
     "outputs": [
      {
       "output_type": "stream",
       "stream": "stdout",
       "text": [
        "2.612611094677666\n"
       ]
      }
     ],
     "prompt_number": 233
    },
    {
     "cell_type": "code",
     "collapsed": false,
     "input": [
      "plot_data(mean_speed_list_7, \"Speed\", \"Cars\", \"Number of Cars Traveling at Speed\", 5, speed_mean_7, speed_stdev_7)"
     ],
     "language": "python",
     "metadata": {},
     "outputs": [
      {
       "metadata": {},
       "output_type": "display_data",
       "png": "[encoded data removed]",
       "text": [
        "<matplotlib.figure.Figure at 0x1100ab588>"
       ]
      }
     ],
     "prompt_number": 234
    },
    {
     "cell_type": "markdown",
     "metadata": {},
     "source": [
      "At this high level of traffic congestion the mean speed drops considerably."
     ]
    },
    {
     "cell_type": "code",
     "collapsed": false,
     "input": [],
     "language": "python",
     "metadata": {},
     "outputs": []
    }
   ],
   "metadata": {}
  }
 ]
}