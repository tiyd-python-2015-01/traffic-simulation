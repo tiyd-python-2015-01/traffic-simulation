{
 "metadata": {
  "name": "",
  "signature": "sha256:568d6c21a9fde3a37542e87df530b559567ddb69047705622df581a10fa55c2b"
 },
 "nbformat": 3,
 "nbformat_minor": 0,
 "worksheets": [
  {
   "cells": [
    {
     "cell_type": "code",
     "collapsed": false,
     "input": [
      "import traffic_sim_functions\n",
      "import seaborn as sb\n",
      "import matplotlib.pyplot as plt\n",
      "from statistics import mean, stdev"
     ],
     "language": "python",
     "metadata": {},
     "outputs": [],
     "prompt_number": 13
    },
    {
     "cell_type": "code",
     "collapsed": false,
     "input": [
      "%matplotlib inline"
     ],
     "language": "python",
     "metadata": {},
     "outputs": [],
     "prompt_number": 23
    },
    {
     "cell_type": "code",
     "collapsed": false,
     "input": [
      "def plot_data(data, x_label, y_label, title, bins, mean, stdev):\n",
      "    plt.gcf().set_size_inches(15.5,10.5)\n",
      "    plt.hist(data, bins=bins)\n",
      "    ymin, ymax = plt.ylim()\n",
      "    plt.vlines(mean, ymin, ymax, color=\"red\")\n",
      "    plt.vlines([mean - stdev, mean + stdev], ymin, ymax, linestyle=\"dashed\", color=\"red\")\n",
      "    plt.xlabel(x_label)\n",
      "    plt.ylabel(y_label)\n",
      "    plt.title(title)\n",
      "    plt.show()"
     ],
     "language": "python",
     "metadata": {},
     "outputs": [],
     "prompt_number": 3
    },
    {
     "cell_type": "heading",
     "level": 1,
     "metadata": {},
     "source": [
      "Traffic Simulation"
     ]
    },
    {
     "cell_type": "markdown",
     "metadata": {},
     "source": [
      "<img src=\"files/road.png\">"
     ]
    },
    {
     "cell_type": "markdown",
     "metadata": {},
     "source": [
      "The following data is based on a simulation of traffic on the road pictured above.  The \"b\" values indicate areas where the curves of the road have an increased likelyhood of causing a driver to slow down.  The simulation contains three types of drivers: Normal drivers who drive cars 5m long, have a desired maximum speed of 120km/h, accelerate at 2m/s, have a desired distance of 20m between themselves and the car ahead and have a base chance to slow down of 10% per second - Aggressive drivers who differ from normal drivers by having a desired maximum speed of 140 km/h, a desired distance of only 15m between themselves, a decreased chance to slow down and the car in front and accelerate at 5m/s - and Commercial drivers who drive vehicles 25m long, have a desired maximum speed of 100 km/h, accelerate at only 1.5m/s and wish to maintain a 100m distance between themselves and the car in front.\n",
      "\n",
      "Normal drivers make up about 75% of the total drivers in the simulation, while commercial drivers make up 15% and aggressive drivers only 10%."
     ]
    },
    {
     "cell_type": "heading",
     "level": 2,
     "metadata": {},
     "source": [
      "Running 100 Simulations Over 1,000 Iterations Each With 30 Cars"
     ]
    },
    {
     "cell_type": "code",
     "collapsed": false,
     "input": [
      "car_list = []\n",
      "for _ in range(100):\n",
      "    car_list.extend(traffic_sim_functions.main(240, 1000))"
     ],
     "language": "python",
     "metadata": {},
     "outputs": [],
     "prompt_number": 9
    },
    {
     "cell_type": "code",
     "collapsed": false,
     "input": [
      "mean_speed_list_1 = []\n",
      "for car in car_list:\n",
      "    mean_speed_list_1.append(car[\"mean speed\"])"
     ],
     "language": "python",
     "metadata": {},
     "outputs": [],
     "prompt_number": 10
    },
    {
     "cell_type": "code",
     "collapsed": false,
     "input": [
      "speed_mean_1 = mean(mean_speed_list_1)\n",
      "speed_stdev_1 = stdev(mean_speed_list_1)"
     ],
     "language": "python",
     "metadata": {},
     "outputs": [],
     "prompt_number": 11
    },
    {
     "cell_type": "code",
     "collapsed": false,
     "input": [
      "print(speed_mean_1)"
     ],
     "language": "python",
     "metadata": {},
     "outputs": [
      {
       "output_type": "stream",
       "stream": "stdout",
       "text": [
        "27.3182173999997\n"
       ]
      }
     ],
     "prompt_number": 12
    },
    {
     "cell_type": "code",
     "collapsed": false,
     "input": [
      "print(speed_stdev_1)"
     ],
     "language": "python",
     "metadata": {},
     "outputs": [
      {
       "output_type": "stream",
       "stream": "stdout",
       "text": [
        "0.26151229648278834\n"
       ]
      }
     ],
     "prompt_number": 13
    },
    {
     "cell_type": "code",
     "collapsed": false,
     "input": [
      "plot_data(mean_speed_list_1, \"Speed\", \"Cars\", \"Number of Cars Traveling at Speed\", 8, speed_mean_1, speed_stdev_1)"
     ],
     "language": "python",
     "metadata": {},
     "outputs": [
      {
       "metadata": {},
       "output_type": "display_data",
       "png": "[encoded data removed]",
       "text": [
        "<matplotlib.figure.Figure at 0x107a9d8d0>"
       ]
      }
     ],
     "prompt_number": 16
    },
    {
     "cell_type": "heading",
     "level": 2,
     "metadata": {},
     "source": [
      "Running 1,000 Simulations Over 10,000 Iterations With 30 Cars"
     ]
    },
    {
     "cell_type": "code",
     "collapsed": false,
     "input": [
      "car_list = []\n",
      "for _ in range(1000):\n",
      "    car_list.extend(traffic_sim_functions.main(240, 10000))"
     ],
     "language": "python",
     "metadata": {},
     "outputs": [],
     "prompt_number": 17
    },
    {
     "cell_type": "code",
     "collapsed": false,
     "input": [
      "mean_speed_list_2 = []\n",
      "for car in car_list:\n",
      "    mean_speed_list_2.append(car[\"mean speed\"])"
     ],
     "language": "python",
     "metadata": {},
     "outputs": [],
     "prompt_number": 18
    },
    {
     "cell_type": "code",
     "collapsed": false,
     "input": [
      "speed_mean_2 = mean(mean_speed_list_2)\n",
      "speed_stdev_2 = stdev(mean_speed_list_2)"
     ],
     "language": "python",
     "metadata": {},
     "outputs": [],
     "prompt_number": 19
    },
    {
     "cell_type": "code",
     "collapsed": false,
     "input": [
      "print(speed_mean_2)"
     ],
     "language": "python",
     "metadata": {},
     "outputs": [
      {
       "output_type": "stream",
       "stream": "stdout",
       "text": [
        "27.42316964000322\n"
       ]
      }
     ],
     "prompt_number": 20
    },
    {
     "cell_type": "code",
     "collapsed": false,
     "input": [
      "print(speed_stdev_2)"
     ],
     "language": "python",
     "metadata": {},
     "outputs": [
      {
       "output_type": "stream",
       "stream": "stdout",
       "text": [
        "0.0198538053883274\n"
       ]
      }
     ],
     "prompt_number": 21
    },
    {
     "cell_type": "code",
     "collapsed": false,
     "input": [
      "plot_data(mean_speed_list_2, \"Speed\", \"Cars\", \"Number of Cars Traveling at Speed\", 5, speed_mean_2, speed_stdev_2)"
     ],
     "language": "python",
     "metadata": {},
     "outputs": [
      {
       "metadata": {},
       "output_type": "display_data",
       "png": "[encoded data removed]",
       "text": [
        "<matplotlib.figure.Figure at 0x10747f400>"
       ]
      }
     ],
     "prompt_number": 22
    },
    {
     "cell_type": "markdown",
     "metadata": {},
     "source": [
      "From the above data we can see that the average driving speed on this road is 27.44 m/s.  Based on this simulation I would recommend a speed limit of 99km/h."
     ]
    },
    {
     "cell_type": "heading",
     "level": 1,
     "metadata": {},
     "source": [
      "Adding More Cars to the Simulation"
     ]
    },
    {
     "cell_type": "heading",
     "level": 2,
     "metadata": {},
     "source": [
      "Running 1,000 Simulations Over 10,000 Iterations With 60 Cars"
     ]
    },
    {
     "cell_type": "code",
     "collapsed": false,
     "input": [
      "car_list = []\n",
      "for _ in range(1000):\n",
      "    car_list.extend(traffic_sim_functions.main(240, 10000, 60))"
     ],
     "language": "python",
     "metadata": {},
     "outputs": [],
     "prompt_number": 23
    },
    {
     "cell_type": "code",
     "collapsed": false,
     "input": [
      "mean_speed_list_3 = []\n",
      "for car in car_list:\n",
      "    mean_speed_list_3.append(car[\"mean speed\"])"
     ],
     "language": "python",
     "metadata": {},
     "outputs": [],
     "prompt_number": 31
    },
    {
     "cell_type": "code",
     "collapsed": false,
     "input": [
      "speed_mean_3 = mean(mean_speed_list_3)\n",
      "speed_stdev_3 = stdev(mean_speed_list_3)"
     ],
     "language": "python",
     "metadata": {},
     "outputs": [],
     "prompt_number": 25
    },
    {
     "cell_type": "code",
     "collapsed": false,
     "input": [
      "print(speed_mean_3)"
     ],
     "language": "python",
     "metadata": {},
     "outputs": [
      {
       "output_type": "stream",
       "stream": "stdout",
       "text": [
        "27.4084334016698\n"
       ]
      }
     ],
     "prompt_number": 26
    },
    {
     "cell_type": "code",
     "collapsed": false,
     "input": [
      "print(speed_stdev_3)"
     ],
     "language": "python",
     "metadata": {},
     "outputs": [
      {
       "output_type": "stream",
       "stream": "stdout",
       "text": [
        "0.030758689473092245\n"
       ]
      }
     ],
     "prompt_number": 27
    },
    {
     "cell_type": "code",
     "collapsed": false,
     "input": [
      "plot_data(mean_speed_list_3, \"Speed\", \"Cars\", \"Number of Cars Traveling at Speed\", 8, speed_mean_3, speed_stdev_3)"
     ],
     "language": "python",
     "metadata": {},
     "outputs": [
      {
       "metadata": {},
       "output_type": "display_data",
       "png": "[encoded data removed]",
       "text": [
        "<matplotlib.figure.Figure at 0x1080c47f0>"
       ]
      }
     ],
     "prompt_number": 28
    },
    {
     "cell_type": "markdown",
     "metadata": {},
     "source": [
      "Doubling the amount of traffic had negligible impact on the speed at which drivers traveled."
     ]
    },
    {
     "cell_type": "heading",
     "level": 2,
     "metadata": {},
     "source": [
      "Running 1,000 Simulations Over 10,000 Iterations With 180 Cars"
     ]
    },
    {
     "cell_type": "code",
     "collapsed": false,
     "input": [
      "car_list = []\n",
      "for _ in range(1000):\n",
      "    car_list.extend(traffic_sim_functions.main(240, 10000, 180))"
     ],
     "language": "python",
     "metadata": {},
     "outputs": [],
     "prompt_number": 29
    },
    {
     "cell_type": "code",
     "collapsed": false,
     "input": [
      "mean_speed_list_4 = []\n",
      "for car in car_list:\n",
      "    mean_speed_list_4.append(car[\"mean speed\"])"
     ],
     "language": "python",
     "metadata": {},
     "outputs": [],
     "prompt_number": 33
    },
    {
     "cell_type": "code",
     "collapsed": false,
     "input": [
      "speed_mean_4 = mean(mean_speed_list_4)\n",
      "speed_stdev_4 = stdev(mean_speed_list_4)"
     ],
     "language": "python",
     "metadata": {},
     "outputs": [],
     "prompt_number": 34
    },
    {
     "cell_type": "code",
     "collapsed": false,
     "input": [
      "print(speed_mean_4)"
     ],
     "language": "python",
     "metadata": {},
     "outputs": [
      {
       "output_type": "stream",
       "stream": "stdout",
       "text": [
        "27.46523943111434\n"
       ]
      }
     ],
     "prompt_number": 35
    },
    {
     "cell_type": "code",
     "collapsed": false,
     "input": [
      "print(speed_stdev_4)"
     ],
     "language": "python",
     "metadata": {},
     "outputs": [
      {
       "output_type": "stream",
       "stream": "stdout",
       "text": [
        "0.033740813535061184\n"
       ]
      }
     ],
     "prompt_number": 36
    },
    {
     "cell_type": "code",
     "collapsed": false,
     "input": [
      "plot_data(mean_speed_list_4, \"Speed\", \"Cars\", \"Number of Cars Traveling at Speed\", 8, speed_mean_4, speed_stdev_4)"
     ],
     "language": "python",
     "metadata": {},
     "outputs": [
      {
       "metadata": {},
       "output_type": "display_data",
       "png": "[encoded data removed]",
       "text": [
        "<matplotlib.figure.Figure at 0x107db0e48>"
       ]
      }
     ],
     "prompt_number": 37
    },
    {
     "cell_type": "markdown",
     "metadata": {},
     "source": [
      "Even at 180 cars congestion does not seem to be a problem.  The 7 km road could fit 1,400 normal sized cars bumper to bumper."
     ]
    },
    {
     "cell_type": "heading",
     "level": 2,
     "metadata": {},
     "source": [
      "Running 1,000 Simulations Over 10,000 Iterations With 500 Cars"
     ]
    },
    {
     "cell_type": "code",
     "collapsed": false,
     "input": [
      "car_list = []\n",
      "for _ in range(1000):\n",
      "    car_list.extend(traffic_sim_functions.main(240, 10000, 500))"
     ],
     "language": "python",
     "metadata": {},
     "outputs": [],
     "prompt_number": 39
    },
    {
     "cell_type": "code",
     "collapsed": false,
     "input": [
      "mean_speed_list_5 = []\n",
      "for car in car_list:\n",
      "    mean_speed_list_5.append(car[\"mean speed\"])"
     ],
     "language": "python",
     "metadata": {},
     "outputs": [],
     "prompt_number": 41
    },
    {
     "cell_type": "code",
     "collapsed": false,
     "input": [
      "speed_mean_5 = mean(mean_speed_list_5)\n",
      "speed_stdev_5 = stdev(mean_speed_list_5)"
     ],
     "language": "python",
     "metadata": {},
     "outputs": [],
     "prompt_number": 42
    },
    {
     "cell_type": "code",
     "collapsed": false,
     "input": [
      "print(speed_mean_5)"
     ],
     "language": "python",
     "metadata": {},
     "outputs": [
      {
       "output_type": "stream",
       "stream": "stdout",
       "text": [
        "16.385844122400268\n"
       ]
      }
     ],
     "prompt_number": 44
    },
    {
     "cell_type": "code",
     "collapsed": false,
     "input": [
      "print(speed_stdev_5)"
     ],
     "language": "python",
     "metadata": {},
     "outputs": [
      {
       "output_type": "stream",
       "stream": "stdout",
       "text": [
        "0.0690993745904483\n"
       ]
      }
     ],
     "prompt_number": 45
    },
    {
     "cell_type": "code",
     "collapsed": false,
     "input": [
      "plot_data(mean_speed_list_5, \"Speed\", \"Cars\", \"Number of Cars Traveling at Speed\", 5, speed_mean_5, speed_stdev_5)"
     ],
     "language": "python",
     "metadata": {},
     "outputs": [
      {
       "metadata": {},
       "output_type": "display_data",
       "png": "[encoded data removed]",
       "text": [
        "<matplotlib.figure.Figure at 0x107db55c0>"
       ]
      }
     ],
     "prompt_number": 46
    },
    {
     "cell_type": "markdown",
     "metadata": {},
     "source": [
      "At this level of congestion the mean speed drops significantly."
     ]
    },
    {
     "cell_type": "code",
     "collapsed": false,
     "input": [],
     "language": "python",
     "metadata": {},
     "outputs": [],
     "prompt_number": 21
    }
   ],
   "metadata": {}
  }
 ]
}