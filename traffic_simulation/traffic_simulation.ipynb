{
 "metadata": {
  "name": "",
  "signature": "sha256:7658dfea6192b1d2972fd8f1f8e125e8e302aef2a04589b8c9d776cf83fb3fe5"
 },
 "nbformat": 3,
 "nbformat_minor": 0,
 "worksheets": [
  {
   "cells": [
    {
     "cell_type": "code",
     "collapsed": false,
     "input": [
      "import numpy as np\n",
      "import random\n",
      "import matplotlib.pyplot as plt\n",
      "import seaborn as sb\n",
      "import statistics as st\n",
      "import math"
     ],
     "language": "python",
     "metadata": {},
     "outputs": [],
     "prompt_number": 40
    },
    {
     "cell_type": "code",
     "collapsed": false,
     "input": [
      "class Car:\n",
      "    \"\"\"\n",
      "    Responsibilites:\n",
      "    * Creates a Car\n",
      "    * Car has length, max speed, acceleration, random deceleration\n",
      "    * Car has rules and preferences: It wants to be 4 car lengths from car in from of it,\n",
      "                                     If it gets close enough to car in front it matches that speed\n",
      "    \"\"\"\n",
      "    \n",
      "    def __init__(self, length = 5, max_speed = 33.33, position = 0, deceleration = 2, acceleration = 2):\n",
      "        self.length = length\n",
      "        self.current_speed = 0\n",
      "        self.max_speed = max_speed\n",
      "        self.position = position\n",
      "        self.deceleration = deceleration\n",
      "        self.acceleration = acceleration\n",
      "        \n",
      "    def accelerate(self):\n",
      "        if self.current_speed < self.max_speed:\n",
      "            self.current_speed += self.acceleration\n",
      "        else: \n",
      "            self.current_speed == self.max_speed\n",
      "\n",
      "    \n",
      "    def rand_deceleration(self):\n",
      "        while self.current_speed > 2:\n",
      "            if random.random() < .1:\n",
      "                return True\n",
      "            else:\n",
      "                return False\n",
      "        \n",
      "        \n",
      "    "
     ],
     "language": "python",
     "metadata": {},
     "outputs": [],
     "prompt_number": 152
    },
    {
     "cell_type": "code",
     "collapsed": false,
     "input": [
      "class Road:\n",
      "    \"\"\"\n",
      "    Responsibilities:\n",
      "    * Create Road with length in meters\n",
      "    * Road is a loop with set # of cars\n",
      "    \n",
      "    Collaborators:\n",
      "    * Car class\n",
      "    \"\"\"\n",
      "    \n",
      "    def __init__(self, length=1000):\n",
      "        self.length = length\n",
      "        self.road = np.zeros(length)\n",
      "        self.reset()\n",
      "        \n",
      "    def car_position(self, car):\n",
      "        position = car.position\n",
      "        self.road[position:position + car.length] = 1\n",
      "        return self.road\n",
      "    \n",
      "    def is_car_in_range(self, car):\n",
      "        position = car.position\n",
      "        if self.road[position + 5: position + 25].any() == 1:\n",
      "           return False\n",
      "        else:\n",
      "           return True\n",
      "    \n",
      "    def reset(self):\n",
      "        self.road = np.zeros(self.length)\n"
     ],
     "language": "python",
     "metadata": {},
     "outputs": [],
     "prompt_number": 240
    },
    {
     "cell_type": "code",
     "collapsed": false,
     "input": [
      "class Simulation:\n",
      "    \"\"\"\n",
      "    Responsiblities:\n",
      "    * Creates all the simulated moves that need to be done to simulate traffic\n",
      "    \"\"\"\n",
      "    def __init__(self, car_list = [], max_cars = 30):\n",
      "        self.car_list = car_list\n",
      "        self.max_cars = max_cars\n",
      "        \n",
      "    \n",
      "    def add_cars(self):\n",
      "        for i in range(self.max_cars):\n",
      "            car = Car()\n",
      "            self.car_list.append(car)\n",
      "            \n",
      "            \n",
      "    def position_all_cars(self, car_list):\n",
      "        initial_sep = round(road.length / self.max_cars)\n",
      "        for i in add_cars(self):\n",
      "            road.car_position(car) += initial_sep\n",
      "        \n",
      "                    \n",
      "    def move(self, car_list):\n",
      "        if car.rand_deceleration():\n",
      "            car.current_speed -= 2\n",
      "            car.position += car.current_speed\n",
      "            return car.position\n",
      "        else:\n",
      "            car.accelerate()\n",
      "            car.position += car.current_speed\n",
      "            return car.position\n",
      "        \n",
      "        \n",
      "    def driving(self):\n",
      "        sec = 3\n",
      "        while sec > 0:\n",
      "            road.reset()\n",
      "            if road.is_car_in_range():\n",
      "                self.move()\n",
      "                print(car.position)\n",
      "                sec -= 1\n",
      "                #break\n",
      "            else:\n",
      "                print(car.position)\n",
      "                False\n",
      "                break\n",
      "        "
     ],
     "language": "python",
     "metadata": {},
     "outputs": [
      {
       "ename": "SyntaxError",
       "evalue": "can't assign to function call (<ipython-input-314-dda2780a3650>, line 20)",
       "output_type": "pyerr",
       "traceback": [
        "\u001b[0;36m  File \u001b[0;32m\"<ipython-input-314-dda2780a3650>\"\u001b[0;36m, line \u001b[0;32m20\u001b[0m\n\u001b[0;31m    road.car_position(car) += initial_sep\u001b[0m\n\u001b[0m    ^\u001b[0m\n\u001b[0;31mSyntaxError\u001b[0m\u001b[0;31m:\u001b[0m can't assign to function call\n"
       ]
      }
     ],
     "prompt_number": 314
    },
    {
     "cell_type": "code",
     "collapsed": false,
     "input": [
      "road = Road()\n",
      "car = Car()\n",
      "#print(road.car_position(car))\n",
      "road.reset()\n",
      "#print(road.road)"
     ],
     "language": "python",
     "metadata": {},
     "outputs": [],
     "prompt_number": 301
    },
    {
     "cell_type": "code",
     "collapsed": false,
     "input": [
      "road = Road()\n",
      "car = Car()\n",
      "sim = Simulation()\n",
      "car.current_speed = 20\n",
      "sim.move()\n",
      "#print(car.current_speed)\n",
      "#print(road.car_position(car))\n",
      "print(sim.driving())\n",
      "sim.add_cars()\n",
      "print(sim.car_list)\n"
     ],
     "language": "python",
     "metadata": {},
     "outputs": [
      {
       "output_type": "stream",
       "stream": "stdout",
       "text": [
        "46\n",
        "72\n",
        "100\n",
        "None\n",
        "[<__main__.Car object at 0x108956208>, <__main__.Car object at 0x1089d5128>, <__main__.Car object at 0x1089d5278>, <__main__.Car object at 0x1089d52b0>, <__main__.Car object at 0x1089d52e8>, <__main__.Car object at 0x1089d5320>, <__main__.Car object at 0x1089d5358>, <__main__.Car object at 0x1089d5390>, <__main__.Car object at 0x1089d53c8>, <__main__.Car object at 0x1089d5400>, <__main__.Car object at 0x1089d5438>, <__main__.Car object at 0x1089d5470>, <__main__.Car object at 0x1089d54a8>, <__main__.Car object at 0x1089d54e0>, <__main__.Car object at 0x1089d5518>, <__main__.Car object at 0x1089d5550>, <__main__.Car object at 0x1089d5588>, <__main__.Car object at 0x1089d55c0>, <__main__.Car object at 0x1089d55f8>, <__main__.Car object at 0x1089d5630>, <__main__.Car object at 0x1089d5668>, <__main__.Car object at 0x1089d56a0>, <__main__.Car object at 0x1089d56d8>, <__main__.Car object at 0x1089d5710>, <__main__.Car object at 0x1089d5748>, <__main__.Car object at 0x1089d5780>, <__main__.Car object at 0x1089d57b8>, <__main__.Car object at 0x1089d57f0>, <__main__.Car object at 0x1089d5828>, <__main__.Car object at 0x1089d5860>, <__main__.Car object at 0x108957e80>, <__main__.Car object at 0x1089d5240>, <__main__.Car object at 0x1089d5978>, <__main__.Car object at 0x1089d59b0>, <__main__.Car object at 0x1089d59e8>, <__main__.Car object at 0x1089d5a20>, <__main__.Car object at 0x1089d5a58>, <__main__.Car object at 0x1089d5a90>, <__main__.Car object at 0x1089d5ac8>, <__main__.Car object at 0x1089d5b00>, <__main__.Car object at 0x1089d5b38>, <__main__.Car object at 0x1089d5b70>, <__main__.Car object at 0x1089d5ba8>, <__main__.Car object at 0x1089d5be0>, <__main__.Car object at 0x1089d5c18>, <__main__.Car object at 0x1089d5c50>, <__main__.Car object at 0x1089d5c88>, <__main__.Car object at 0x1089d5cc0>, <__main__.Car object at 0x1089d5cf8>, <__main__.Car object at 0x1089d5d30>, <__main__.Car object at 0x1089d5d68>, <__main__.Car object at 0x1089d5da0>, <__main__.Car object at 0x1089d5dd8>, <__main__.Car object at 0x1089d5e10>, <__main__.Car object at 0x1089d5e48>, <__main__.Car object at 0x1089d5e80>, <__main__.Car object at 0x1089d5eb8>, <__main__.Car object at 0x1089d5ef0>, <__main__.Car object at 0x1089d5f28>, <__main__.Car object at 0x1089d5f60>, <__main__.Car object at 0x1088f7358>, <__main__.Car object at 0x1088f7080>, <__main__.Car object at 0x1088f7f28>, <__main__.Car object at 0x1088f74e0>, <__main__.Car object at 0x1088f7be0>, <__main__.Car object at 0x1088f7d30>, <__main__.Car object at 0x1088f7b00>, <__main__.Car object at 0x1088f7cf8>, <__main__.Car object at 0x1088f7860>, <__main__.Car object at 0x1088f7b70>, <__main__.Car object at 0x1088f7cc0>, <__main__.Car object at 0x1088f7eb8>, <__main__.Car object at 0x1088f7668>, <__main__.Car object at 0x1088f9e80>, <__main__.Car object at 0x1088f9278>, <__main__.Car object at 0x1088f90b8>, <__main__.Car object at 0x1088f9be0>, <__main__.Car object at 0x1088f9e10>, <__main__.Car object at 0x1088f9908>, <__main__.Car object at 0x1088f9518>, <__main__.Car object at 0x1088f9f60>, <__main__.Car object at 0x1088f91d0>, <__main__.Car object at 0x1088f95f8>, <__main__.Car object at 0x108987f28>, <__main__.Car object at 0x108987080>, <__main__.Car object at 0x108987f98>, <__main__.Car object at 0x108987fd0>, <__main__.Car object at 0x1089871d0>, <__main__.Car object at 0x108987a58>, <__main__.Car object at 0x108987eb8>, <__main__.Car object at 0x1088f7518>, <__main__.Car object at 0x1088f7240>, <__main__.Car object at 0x108987da0>, <__main__.Car object at 0x108987f60>, <__main__.Car object at 0x108987128>, <__main__.Car object at 0x108987780>, <__main__.Car object at 0x1089877b8>, <__main__.Car object at 0x1089877f0>, <__main__.Car object at 0x108987710>, <__main__.Car object at 0x108987278>, <__main__.Car object at 0x108987898>, <__main__.Car object at 0x108987dd8>, <__main__.Car object at 0x108987ac8>, <__main__.Car object at 0x108987e48>, <__main__.Car object at 0x108987a20>, <__main__.Car object at 0x108987668>, <__main__.Car object at 0x108987828>, <__main__.Car object at 0x1089878d0>, <__main__.Car object at 0x108987198>, <__main__.Car object at 0x108987630>, <__main__.Car object at 0x1089870f0>, <__main__.Car object at 0x108987e10>, <__main__.Car object at 0x108987160>, <__main__.Car object at 0x1089876d8>, <__main__.Car object at 0x108987550>, <__main__.Car object at 0x108987cc0>, <__main__.Car object at 0x1089879e8>, <__main__.Car object at 0x108987438>, <__main__.Car object at 0x1089874a8>, <__main__.Car object at 0x108987b00>, <__main__.Car object at 0x103560780>, <__main__.Car object at 0x1089d5048>, <__main__.Car object at 0x1089d50f0>, <__main__.Car object at 0x1089d5160>, <__main__.Car object at 0x1089d5fd0>, <__main__.Car object at 0x1089d5f98>, <__main__.Car object at 0x1089d5198>, <__main__.Car object at 0x1089d5940>, <__main__.Car object at 0x108a0f048>, <__main__.Car object at 0x108a0f080>, <__main__.Car object at 0x108a0f0b8>, <__main__.Car object at 0x108a0f0f0>, <__main__.Car object at 0x108a0f128>, <__main__.Car object at 0x108a0f160>, <__main__.Car object at 0x108a0f198>, <__main__.Car object at 0x108a0f1d0>, <__main__.Car object at 0x108a0f208>, <__main__.Car object at 0x108a0f240>, <__main__.Car object at 0x108a0f278>, <__main__.Car object at 0x108a0f2b0>, <__main__.Car object at 0x108a0f2e8>, <__main__.Car object at 0x108a0f320>, <__main__.Car object at 0x108a0f358>, <__main__.Car object at 0x108a0f390>, <__main__.Car object at 0x108a0f3c8>, <__main__.Car object at 0x108a0f400>, <__main__.Car object at 0x108a0f438>, <__main__.Car object at 0x108a0f470>, <__main__.Car object at 0x108a0f4a8>, <__main__.Car object at 0x108a0f4e0>]\n"
       ]
      }
     ],
     "prompt_number": 315
    }
   ],
   "metadata": {}
  }
 ]
}