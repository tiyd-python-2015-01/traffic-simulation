{
 "metadata": {
  "name": "",
  "signature": "sha256:363a1121e77d5b417c659f54a8ed255582c891a80baff3f52fa5bd49ab386f6e"
 },
 "nbformat": 3,
 "nbformat_minor": 0,
 "worksheets": [
  {
   "cells": [
    {
     "cell_type": "code",
     "collapsed": false,
     "input": [
      "class Road:\n",
      "    \"\"\"\n",
      "    Will be 1000 meters long.\n",
      "    It will have a difficulty that will cause the cars to randomly slow down.\n",
      "\n",
      "\n",
      "    \"\"\"\n",
      "    def __init__(self, number_of_cars=30):\n",
      "        self.difficulty = 0.10\n",
      "        self.length = self.make_road()\n",
      "        self.traffic = self.create_cars(number_of_cars)\n",
      "\n",
      "    def __len__(self):\n",
      "        return len(self.traffic)\n",
      "\n",
      "    def make_road(self):\n",
      "        return [0 for x in range(1000)]\n",
      "\n",
      "    def create_cars(self, number_of_cars):\n",
      "        cars = []\n",
      "        for number in range(number_of_cars):\n",
      "            cars.append(Car((number_of_cars * number)))\n",
      "        return cars\n"
     ],
     "language": "python",
     "metadata": {},
     "outputs": [],
     "prompt_number": 5
    },
    {
     "cell_type": "code",
     "collapsed": false,
     "input": [
      "import random\n",
      "\n",
      "class Car:\n",
      "\n",
      "    def __init__(self, position):\n",
      "        self.max_speed = 33.33\n",
      "        self.current_speed = 0\n",
      "        self.size = 5\n",
      "        self.acceleration = 2\n",
      "        self.space = 20\n",
      "        self.back = position\n",
      "\n",
      "    def __str__(self):\n",
      "        return \"Generic Car\"\n",
      "\n",
      "    def __repr__(self):\n",
      "        return self.__str__()\n",
      "\n",
      "    def speed_up(self):\n",
      "        self.current_speed += self.acceleration\n",
      "\n",
      "    def slow_down(self):\n",
      "        self.current_speed -= self.acceleration\n",
      "\n",
      "    def move(self):\n",
      "        self.back += self.current_speed\n",
      "        \n",
      "    def set_speed(self, desired_speed):\n",
      "        self.current_speed = desired_speed\n"
     ],
     "language": "python",
     "metadata": {},
     "outputs": [],
     "prompt_number": 7
    },
    {
     "cell_type": "code",
     "collapsed": false,
     "input": [
      "little_road = Road(2)"
     ],
     "language": "python",
     "metadata": {},
     "outputs": [],
     "prompt_number": 8
    },
    {
     "cell_type": "code",
     "collapsed": false,
     "input": [
      "little_road.traffic[0].set_speed(20)"
     ],
     "language": "python",
     "metadata": {},
     "outputs": [],
     "prompt_number": 9
    },
    {
     "cell_type": "code",
     "collapsed": false,
     "input": [
      "little_road.traffic[1].set_speed(little_road.traffic[0])"
     ],
     "language": "python",
     "metadata": {},
     "outputs": [],
     "prompt_number": 10
    },
    {
     "cell_type": "code",
     "collapsed": false,
     "input": [
      "print(little_road.traffic[1].current_speed)"
     ],
     "language": "python",
     "metadata": {},
     "outputs": [
      {
       "output_type": "stream",
       "stream": "stdout",
       "text": [
        "Generic Car\n"
       ]
      }
     ],
     "prompt_number": 12
    },
    {
     "cell_type": "code",
     "collapsed": false,
     "input": [],
     "language": "python",
     "metadata": {},
     "outputs": []
    }
   ],
   "metadata": {}
  }
 ]
}