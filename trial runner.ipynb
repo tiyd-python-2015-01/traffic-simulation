{
 "metadata": {
  "name": "",
  "signature": "sha256:48180b33ef60a0706d353b4022516f341259020f1dbf3c537dfbfcef1af44527"
 },
 "nbformat": 3,
 "nbformat_minor": 0,
 "worksheets": [
  {
   "cells": [
    {
     "cell_type": "code",
     "collapsed": false,
     "input": [
      "from trafficsim.car import Car\n",
      "from trafficsim.simulation import Simulation\n",
      "import seaborn as sns\n",
      "import matplotlib.pyplot as plt\n",
      "import statistics as st\n",
      "import numpy as np"
     ],
     "language": "python",
     "metadata": {},
     "outputs": [],
     "prompt_number": 22
    },
    {
     "cell_type": "code",
     "collapsed": false,
     "input": [
      "%matplotlib inline"
     ],
     "language": "python",
     "metadata": {},
     "outputs": [],
     "prompt_number": 2
    },
    {
     "cell_type": "code",
     "collapsed": false,
     "input": [
      "def run_trials(number_of_trials, num_cars, len_of_road, time_of_trial, night_mode):\n",
      "    list_of_mean_speeds = np.array([])\n",
      "    counter = 0\n",
      "    while number_of_trials > counter:\n",
      "        temp_simulation = Simulation(number_of_cars=num_cars, length=len_of_road, nightmare=night_mode)\n",
      "        temp_list_speed, temp_list_positions = temp_simulation.simulate(time_of_trial)\n",
      "        temp_list_speed = np.array(temp_list_speed)\n",
      "        temp_list_mean = temp_list_speed.mean()\n",
      "        list_of_mean_speeds = np.hstack((list_of_mean_speeds, temp_list_mean))     \n",
      "        counter += 1\n",
      "    return list_of_mean_speeds"
     ],
     "language": "python",
     "metadata": {},
     "outputs": [],
     "prompt_number": 3
    },
    {
     "cell_type": "code",
     "collapsed": false,
     "input": [
      "little_sim = Simulation(number_of_cars=30, length=1000)\n",
      "little_sim_speeds, little_sim_positions = little_sim.simulate()"
     ],
     "language": "python",
     "metadata": {},
     "outputs": [],
     "prompt_number": 4
    },
    {
     "cell_type": "code",
     "collapsed": false,
     "input": [
      "little_sim_speeds = np.array(little_sim_speeds)\n",
      "print(little_sim_speeds.mean())"
     ],
     "language": "python",
     "metadata": {},
     "outputs": [
      {
       "output_type": "stream",
       "stream": "stdout",
       "text": [
        "19.2501347222\n"
       ]
      }
     ],
     "prompt_number": 5
    },
    {
     "cell_type": "code",
     "collapsed": false,
     "input": [],
     "language": "python",
     "metadata": {},
     "outputs": []
    },
    {
     "cell_type": "heading",
     "level": 1,
     "metadata": {},
     "source": [
      "Normal mode simulations"
     ]
    },
    {
     "cell_type": "code",
     "collapsed": false,
     "input": [
      "normal_mode_simulation = Simulation()"
     ],
     "language": "python",
     "metadata": {},
     "outputs": [],
     "prompt_number": 6
    },
    {
     "cell_type": "code",
     "collapsed": false,
     "input": [
      "normal_mode_mean_speeds = np.array(run_trials(10000, 30, 1000, 300, False))\n",
      "print(normal_mode_mean_speeds.mean())\n",
      "print(normal_mode_mean_speeds.std())\n",
      "speed_limit = normal_mode_mean_speeds.mean() + normal_mode_mean_speeds.std()\n",
      "print(speed_limit)"
     ],
     "language": "python",
     "metadata": {},
     "outputs": [
      {
       "output_type": "stream",
       "stream": "stdout",
       "text": [
        "22.6431356749\n",
        "4.96881286033\n",
        "27.6119485352\n"
       ]
      }
     ],
     "prompt_number": 7
    },
    {
     "cell_type": "code",
     "collapsed": false,
     "input": [
      "sns.distplot(normal_mode_mean_speeds, rug=False, kde=False)\n",
      "plt.xlabel(\"Average Speed\")\n",
      "plt.ylabel(\"Number of Simulations\")\n",
      "plt.title(\"Distribution of Normal Mode Simulation over 10,00 runs\")"
     ],
     "language": "python",
     "metadata": {},
     "outputs": [
      {
       "metadata": {},
       "output_type": "pyout",
       "prompt_number": 19,
       "text": [
        "<matplotlib.text.Text at 0x1163fecc0>"
       ]
      },
      {
       "metadata": {},
       "output_type": "display_data",
       "png": "[encoded data removed]",
       "text": [
        "<matplotlib.figure.Figure at 0x116144cc0>"
       ]
      }
     ],
     "prompt_number": 19
    },
    {
     "cell_type": "markdown",
     "metadata": {},
     "source": [
      "From the data we can conlude that the speed limit for the normal mode road should be about 28 m/s or 101 km/h. As the average speed over 10,000 runs was 22.6 m/s and the standard deviation was 5 m/s. With rounding we can determine that the mean plus one standard deviation is 28 m/s."
     ]
    },
    {
     "cell_type": "heading",
     "level": 1,
     "metadata": {},
     "source": [
      "Hard mode simulations"
     ]
    },
    {
     "cell_type": "code",
     "collapsed": false,
     "input": [
      "hard_mode_simulation = Simulation(number_of_cars=210, length=7000)"
     ],
     "language": "python",
     "metadata": {},
     "outputs": [],
     "prompt_number": 8
    },
    {
     "cell_type": "code",
     "collapsed": false,
     "input": [
      "hard_mode_mean_speeds = np.array(run_trials(10000, 210, 7000, 300, False))\n",
      "print(hard_mode_mean_speeds.mean())\n",
      "print(hard_mode_mean_speeds.std())\n",
      "speed_limit = round(hard_mode_mean_speeds.mean() + hard_mode_mean_speeds.std())\n",
      "print(speed_limit)"
     ],
     "language": "python",
     "metadata": {},
     "outputs": [
      {
       "output_type": "stream",
       "stream": "stdout",
       "text": [
        "13.4124989615\n",
        "1.05433767493\n"
       ]
      },
      {
       "ename": "NameError",
       "evalue": "name 'hard_mode_speeds' is not defined",
       "output_type": "pyerr",
       "traceback": [
        "\u001b[0;31m---------------------------------------------------------------------------\u001b[0m\n\u001b[0;31mNameError\u001b[0m                                 Traceback (most recent call last)",
        "\u001b[0;32m<ipython-input-9-a9c182663eb8>\u001b[0m in \u001b[0;36m<module>\u001b[0;34m()\u001b[0m\n\u001b[1;32m      2\u001b[0m \u001b[0mprint\u001b[0m\u001b[0;34m(\u001b[0m\u001b[0mhard_mode_mean_speeds\u001b[0m\u001b[0;34m.\u001b[0m\u001b[0mmean\u001b[0m\u001b[0;34m(\u001b[0m\u001b[0;34m)\u001b[0m\u001b[0;34m)\u001b[0m\u001b[0;34m\u001b[0m\u001b[0m\n\u001b[1;32m      3\u001b[0m \u001b[0mprint\u001b[0m\u001b[0;34m(\u001b[0m\u001b[0mhard_mode_mean_speeds\u001b[0m\u001b[0;34m.\u001b[0m\u001b[0mstd\u001b[0m\u001b[0;34m(\u001b[0m\u001b[0;34m)\u001b[0m\u001b[0;34m)\u001b[0m\u001b[0;34m\u001b[0m\u001b[0m\n\u001b[0;32m----> 4\u001b[0;31m \u001b[0mspeed_limit\u001b[0m \u001b[0;34m=\u001b[0m \u001b[0mround\u001b[0m\u001b[0;34m(\u001b[0m\u001b[0;34m(\u001b[0m\u001b[0mst\u001b[0m\u001b[0;34m.\u001b[0m\u001b[0mmean\u001b[0m\u001b[0;34m(\u001b[0m\u001b[0mhard_mode_speeds\u001b[0m\u001b[0;34m)\u001b[0m \u001b[0;34m+\u001b[0m \u001b[0;34m(\u001b[0m\u001b[0mst\u001b[0m\u001b[0;34m.\u001b[0m\u001b[0mpstdev\u001b[0m\u001b[0;34m(\u001b[0m\u001b[0mhard_mode_speeds\u001b[0m\u001b[0;34m)\u001b[0m\u001b[0;34m)\u001b[0m\u001b[0;34m)\u001b[0m\u001b[0;34m)\u001b[0m\u001b[0;34m\u001b[0m\u001b[0m\n\u001b[0m\u001b[1;32m      5\u001b[0m \u001b[0mprint\u001b[0m\u001b[0;34m(\u001b[0m\u001b[0mspeed_limit\u001b[0m\u001b[0;34m)\u001b[0m\u001b[0;34m\u001b[0m\u001b[0m\n",
        "\u001b[0;31mNameError\u001b[0m: name 'hard_mode_speeds' is not defined"
       ]
      }
     ],
     "prompt_number": 9
    },
    {
     "cell_type": "code",
     "collapsed": false,
     "input": [
      "sns.distplot(hard_mode_mean_speeds, rug=False, kde=False)\n",
      "plt.xlabel(\"Average Speed\")\n",
      "plt.ylabel(\"Number of Simulations\")\n",
      "plt.title(\"Distribution of Hard Mode Simulation over 10,00 runs\")"
     ],
     "language": "python",
     "metadata": {},
     "outputs": [
      {
       "metadata": {},
       "output_type": "pyout",
       "prompt_number": 17,
       "text": [
        "<matplotlib.text.Text at 0x116080400>"
       ]
      },
      {
       "metadata": {},
       "output_type": "display_data",
       "png": "[encoded data removed]",
       "text": [
        "<matplotlib.figure.Figure at 0x116041b38>"
       ]
      }
     ],
     "prompt_number": 17
    },
    {
     "cell_type": "markdown",
     "metadata": {},
     "source": [
      "From the data we can conlude that the speed limit for the hard mode road should be about 14 m/s or 50 km/h. As the average speed over 10,000 runs was 13.4 m/s and the standard deviation was 1 m/s. With rounding we can determine that the mean plus one standard deviation is 14 m/s."
     ]
    },
    {
     "cell_type": "heading",
     "level": 1,
     "metadata": {},
     "source": [
      "Nightmare mode simulations"
     ]
    },
    {
     "cell_type": "code",
     "collapsed": false,
     "input": [
      "nightmare_mode_mean_speeds = run_trials(10000, 210, 7000, 180, True)\n",
      "nightmare_mode_mean_speeds = np.array(nightmare_mode_mean_speeds)\n",
      "print(nightmare_mode_mean_speeds.mean())\n",
      "print(nightmare_mode_mean_speeds.std())\n",
      "\n",
      "\n",
      "speed_limit = round(nightmare_mode_mean_speeds.mean() + nightmare_mode_mean_speeds.std())\n"
     ],
     "language": "python",
     "metadata": {},
     "outputs": [
      {
       "output_type": "stream",
       "stream": "stdout",
       "text": [
        "12.7245402853\n",
        "0.705674504787\n"
       ]
      }
     ],
     "prompt_number": 10
    },
    {
     "cell_type": "code",
     "collapsed": false,
     "input": [
      "sns.distplot(nightmare_mode_mean_speeds, rug=False, kde=False)\n",
      "plt.xlabel(\"Average Speed\")\n",
      "plt.ylabel(\"Number of Simulations\")\n",
      "plt.title(\"Distribution of Nightmare Mode Simulation over 10,00 runs\")"
     ],
     "language": "python",
     "metadata": {},
     "outputs": [
      {
       "metadata": {},
       "output_type": "pyout",
       "prompt_number": 20,
       "text": [
        "<matplotlib.text.Text at 0x11654f6d8>"
       ]
      },
      {
       "metadata": {},
       "output_type": "display_data",
       "png": "[encoded data removed]",
       "text": [
        "<matplotlib.figure.Figure at 0x11651beb8>"
       ]
      }
     ],
     "prompt_number": 20
    },
    {
     "cell_type": "markdown",
     "metadata": {},
     "source": [
      "From the data we can conlude that the speed limit for the normal mode road should be about 13 m/s or 47 km/h. As the average speed over 10,000 runs was 12.7 m/s and the standard deviation was 0.7 m/s. With rounding we can determine that the mean plus one standard deviation is 13 m/s."
     ]
    },
    {
     "cell_type": "code",
     "collapsed": false,
     "input": [
      "print(night)"
     ],
     "language": "python",
     "metadata": {},
     "outputs": []
    },
    {
     "cell_type": "code",
     "collapsed": false,
     "input": [
      "normal = normal_mode_mean_speeds\n",
      "hard = hard_mode_mean_speeds\n",
      "nightmare = nightmare_mode_mean_speeds \n",
      "sns.boxplot([normal, hard, nightmare], color=\"muted\")\n",
      "ymin, ymax = plt.ylim()\n",
      "plt.title(\"Plots of average speeds of different simulations.\")\n",
      "plt.ylabel(\"Average Speed\")\n",
      "plt.xticks(range(1,5), [\"Normal mode\", \"Hard mode\", \"Nightmare mode\"])\n",
      "plt.show()"
     ],
     "language": "python",
     "metadata": {},
     "outputs": [
      {
       "metadata": {},
       "output_type": "display_data",
       "png": "[encoded data removed]",
       "text": [
        "<matplotlib.figure.Figure at 0x1167d1b70>"
       ]
      }
     ],
     "prompt_number": 25
    },
    {
     "cell_type": "code",
     "collapsed": false,
     "input": [],
     "language": "python",
     "metadata": {},
     "outputs": []
    }
   ],
   "metadata": {}
  }
 ]
}